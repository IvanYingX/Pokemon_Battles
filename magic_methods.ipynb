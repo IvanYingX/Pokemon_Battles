{
 "metadata": {
  "language_info": {
   "codemirror_mode": {
    "name": "ipython",
    "version": 3
   },
   "file_extension": ".py",
   "mimetype": "text/x-python",
   "name": "python",
   "nbconvert_exporter": "python",
   "pygments_lexer": "ipython3",
   "version": 3
  },
  "orig_nbformat": 4
 },
 "nbformat": 4,
 "nbformat_minor": 2,
 "cells": [
  {
   "cell_type": "code",
   "execution_count": null,
   "metadata": {},
   "outputs": [],
   "source": [
    "class Currency:\n",
    "    currencies =  {'GBP': 0.89, \n",
    "                   'JPY': 114.39, \n",
    "                   'EUR': 1.0, \n",
    "                   'USD': 1.11 } # 1 EUR corresponds to 1.11 USD\n",
    "    def __init__(self, value, unit):\n",
    "        '''\n",
    "        Check if the entered unit is within\n",
    "        the possibilities ('GBP', 'JPY', 'EUR', or 'USD')\n",
    "        '''\n",
    "    def __add__(self, other):\n",
    "        '''\n",
    "        Return the value of adding two currencies\n",
    "        with the units of self. For example, if\n",
    "        other.unit == 'USD', we have to convert \n",
    "        other.value by multiplying it by 1.11\n",
    "        '''\n",
    "    def __sub__():\n",
    "\n",
    "    def __repr__():\n",
    "    \n",
    "    def __gt__():\n",
    "    \n",
    "    def __lt__():\n",
    "    "
   ]
  },
  {
   "cell_type": "code",
   "execution_count": null,
   "metadata": {},
   "outputs": [],
   "source": [
    "money_1 = Currency(20, 'EUR')\n",
    "money_2 = Ccy(19.97, \"USD\")"
   ]
  }
 ]
}