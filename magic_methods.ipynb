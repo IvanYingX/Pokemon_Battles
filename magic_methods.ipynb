{
 "cells": [
  {
   "cell_type": "code",
   "execution_count": 102,
   "metadata": {},
   "outputs": [],
   "source": [
    "class Currency:\r\n",
    "    currencies =  {'GBP': 0.89, \r\n",
    "                   'JPY': 114.39, \r\n",
    "                   'EUR': 1.0, \r\n",
    "                   'USD': 1.11 } # 1 EUR corresponds to 1.11 USD\r\n",
    "    def __init__(self, value, unit):\r\n",
    "        '''\r\n",
    "        Check if the entered unit is within\r\n",
    "        the possibilities ('GBP', 'JPY', 'EUR', or 'USD')\r\n",
    "        '''\r\n",
    "        if unit not in self.currencies.keys():\r\n",
    "            raise ValueError(f'{unit} not available')\r\n",
    "        else:\r\n",
    "            self.unit = unit\r\n",
    "        \r\n",
    "        self.value = value\r\n",
    "\r\n",
    "    def convert_to(self, unit):\r\n",
    "        return (self.currencies[unit] * self.value) / self.currencies[self.unit]\r\n",
    "\r\n",
    "    def __add__(self, other):\r\n",
    "        value = (self.currencies[self.unit] * other.value) / self.currencies[other.unit]\r\n",
    "        return Currency(value + self.value, self.unit)\r\n",
    "\r\n",
    "    def __sub__(self, other):\r\n",
    "        value = (self.currencies[self.unit] * other.value) / self.currencies[other.unit]\r\n",
    "        return Currency(self.value - value, self.unit)\r\n",
    "\r\n",
    "    def __repr__(self):\r\n",
    "        return f'{self.value} {self.unit}'\r\n",
    "\r\n",
    "    def __gt__(self, other):\r\n",
    "        value = (self.currencies[self.unit] * other.value) / self.currencies[other.unit]\r\n",
    "        return self.value > value\r\n",
    "\r\n",
    "    def __lt__(self, other):\r\n",
    "        value = (self.currencies[self.unit] * other.value) / self.currencies[other.unit]\r\n",
    "        return self.value < value\r\n",
    "    \r\n",
    "    def __len__(self):\r\n",
    "        return len(self.unit)\r\n",
    "    \r\n",
    "    def __getitem__(self, n):\r\n",
    "        return list(self.currencies.keys())[n]"
   ]
  },
  {
   "cell_type": "code",
   "execution_count": 103,
   "metadata": {},
   "outputs": [],
   "source": [
    "money_1 = Currency(19, 'EUR')\r\n",
    "money_2 = Currency(19.97, \"USD\")"
   ]
  },
  {
   "cell_type": "code",
   "execution_count": 104,
   "metadata": {},
   "outputs": [
    {
     "data": {
      "text/plain": [
       "'USD'"
      ]
     },
     "execution_count": 104,
     "metadata": {},
     "output_type": "execute_result"
    }
   ],
   "source": [
    "money_1[3]"
   ]
  },
  {
   "cell_type": "code",
   "execution_count": 77,
   "metadata": {},
   "outputs": [
    {
     "data": {
      "text/plain": [
       "False"
      ]
     },
     "execution_count": 77,
     "metadata": {},
     "output_type": "execute_result"
    }
   ],
   "source": [
    "money_2 > money_1"
   ]
  },
  {
   "cell_type": "code",
   "execution_count": 75,
   "metadata": {},
   "outputs": [
    {
     "data": {
      "text/plain": [
       "__main__.Currency"
      ]
     },
     "execution_count": 75,
     "metadata": {},
     "output_type": "execute_result"
    }
   ],
   "source": []
  },
  {
   "cell_type": "code",
   "execution_count": 73,
   "metadata": {},
   "outputs": [
    {
     "data": {
      "text/plain": [
       "21.090000000000003"
      ]
     },
     "execution_count": 73,
     "metadata": {},
     "output_type": "execute_result"
    }
   ],
   "source": [
    "money_1.convert_to('USD')"
   ]
  },
  {
   "cell_type": "code",
   "execution_count": null,
   "metadata": {},
   "outputs": [],
   "source": [
    "class Trainer:\n",
    "    def __init__(self, pokemon):\n",
    "        self.pokemon = pokemon\n",
    "\n",
    "    def __getitem__(self, n):\n",
    "        return self.pokemon[1]"
   ]
  }
 ],
 "metadata": {
  "interpreter": {
   "hash": "ad8bebc098a042dc0df4e42fc2ecc8fff0bd7b8741641ce29007c29766dadbe0"
  },
  "kernelspec": {
   "display_name": "Python 3.9.1 64-bit ('base': conda)",
   "name": "python3"
  },
  "language_info": {
   "codemirror_mode": {
    "name": "ipython",
    "version": 3
   },
   "file_extension": ".py",
   "mimetype": "text/x-python",
   "name": "python",
   "nbconvert_exporter": "python",
   "pygments_lexer": "ipython3",
   "version": "3.9.1"
  },
  "orig_nbformat": 4
 },
 "nbformat": 4,
 "nbformat_minor": 2
}