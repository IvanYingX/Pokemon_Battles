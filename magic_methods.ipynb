{
 "cells": [
  {
   "cell_type": "code",
   "execution_count": 88,
   "metadata": {},
   "outputs": [],
   "source": [
    "class Currency:\r\n",
    "    currencies =  {'GBP': 0.89, \r\n",
    "                   'JPY': 114.39, \r\n",
    "                   'EUR': 1.0, \r\n",
    "                   'USD': 1.11 } # 1 EUR corresponds to 1.11 USD\r\n",
    "    ls = [1, 2, 3 ,4]\r\n",
    "    def __init__(self, value, unit):\r\n",
    "        '''\r\n",
    "        Check if the entered unit is within\r\n",
    "        the possibilities ('GBP', 'JPY', 'EUR', or 'USD')\r\n",
    "        '''\r\n",
    "        if unit not in self.currencies.keys():\r\n",
    "            raise ValueError(f'{unit} not available')\r\n",
    "        else:\r\n",
    "            self.unit = unit\r\n",
    "        \r\n",
    "        self.value = value\r\n",
    "\r\n",
    "    def convert_to(self, unit):\r\n",
    "        return (self.currencies[unit] * self.value) / self.currencies[self.unit]\r\n",
    "\r\n",
    "    def __add__(self, other):\r\n",
    "        value = (self.currencies[self.unit] * other.value) / self.currencies[other.unit]\r\n",
    "        return Currency(value + self.value, self.unit)\r\n",
    "\r\n",
    "    def __sub__(self, other):\r\n",
    "        value = (self.currencies[self.unit] * other.value) / self.currencies[other.unit]\r\n",
    "        return Currency(self.value - value, self.unit)\r\n",
    "\r\n",
    "    def __repr__(self):\r\n",
    "        return f'{self.value} {self.unit}'\r\n",
    "\r\n",
    "    def __gt__(self, other):\r\n",
    "        value = (self.currencies[self.unit] * other.value) / self.currencies[other.unit]\r\n",
    "        return self.value > value\r\n",
    "\r\n",
    "    def __lt__(self, other):\r\n",
    "        value = (self.currencies[self.unit] * other.value) / self.currencies[other.unit]\r\n",
    "        return self.value < value\r\n",
    "    \r\n",
    "    def __len__(self):\r\n",
    "        return len(self.unit)\r\n",
    "    \r\n",
    "    def __getitem__(self, n):\r\n",
    "        return self.currencies.keys()[n] "
   ]
  },
  {
   "cell_type": "code",
   "execution_count": 89,
   "metadata": {},
   "outputs": [],
   "source": [
    "money_1 = Currency(19, 'EUR')\r\n",
    "money_2 = Currency(19.97, \"USD\")"
   ]
  },
  {
   "cell_type": "code",
   "execution_count": 90,
   "metadata": {},
   "outputs": [
    {
     "ename": "TypeError",
     "evalue": "'builtin_function_or_method' object is not subscriptable",
     "output_type": "error",
     "traceback": [
      "\u001b[1;31m---------------------------------------------------------------------------\u001b[0m",
      "\u001b[1;31mTypeError\u001b[0m                                 Traceback (most recent call last)",
      "\u001b[1;32m<ipython-input-90-66b4227fc3b4>\u001b[0m in \u001b[0;36m<module>\u001b[1;34m\u001b[0m\n\u001b[1;32m----> 1\u001b[1;33m \u001b[0mmoney_1\u001b[0m\u001b[1;33m[\u001b[0m\u001b[1;36m1\u001b[0m\u001b[1;33m]\u001b[0m\u001b[1;33m\u001b[0m\u001b[1;33m\u001b[0m\u001b[0m\n\u001b[0m",
      "\u001b[1;32m<ipython-input-88-c2e3a80f579c>\u001b[0m in \u001b[0;36m__getitem__\u001b[1;34m(self, n)\u001b[0m\n\u001b[0;32m     43\u001b[0m \u001b[1;33m\u001b[0m\u001b[0m\n\u001b[0;32m     44\u001b[0m     \u001b[1;32mdef\u001b[0m \u001b[0m__getitem__\u001b[0m\u001b[1;33m(\u001b[0m\u001b[0mself\u001b[0m\u001b[1;33m,\u001b[0m \u001b[0mn\u001b[0m\u001b[1;33m)\u001b[0m\u001b[1;33m:\u001b[0m\u001b[1;33m\u001b[0m\u001b[1;33m\u001b[0m\u001b[0m\n\u001b[1;32m---> 45\u001b[1;33m         \u001b[1;32mreturn\u001b[0m \u001b[0mself\u001b[0m\u001b[1;33m.\u001b[0m\u001b[0mcurrencies\u001b[0m\u001b[1;33m.\u001b[0m\u001b[0mkeys\u001b[0m\u001b[1;33m[\u001b[0m\u001b[0mn\u001b[0m\u001b[1;33m]\u001b[0m\u001b[1;33m\u001b[0m\u001b[1;33m\u001b[0m\u001b[0m\n\u001b[0m",
      "\u001b[1;31mTypeError\u001b[0m: 'builtin_function_or_method' object is not subscriptable"
     ]
    }
   ],
   "source": [
    "money_1[1]"
   ]
  },
  {
   "cell_type": "code",
   "execution_count": 77,
   "metadata": {},
   "outputs": [
    {
     "data": {
      "text/plain": [
       "False"
      ]
     },
     "execution_count": 77,
     "metadata": {},
     "output_type": "execute_result"
    }
   ],
   "source": [
    "money_2 > money_1"
   ]
  },
  {
   "cell_type": "code",
   "execution_count": 75,
   "metadata": {},
   "outputs": [
    {
     "data": {
      "text/plain": [
       "__main__.Currency"
      ]
     },
     "execution_count": 75,
     "metadata": {},
     "output_type": "execute_result"
    }
   ],
   "source": []
  },
  {
   "cell_type": "code",
   "execution_count": 73,
   "metadata": {},
   "outputs": [
    {
     "data": {
      "text/plain": [
       "21.090000000000003"
      ]
     },
     "execution_count": 73,
     "metadata": {},
     "output_type": "execute_result"
    }
   ],
   "source": [
    "money_1.convert_to('USD')"
   ]
  },
  {
   "cell_type": "code",
   "execution_count": null,
   "metadata": {},
   "outputs": [],
   "source": []
  }
 ],
 "metadata": {
  "interpreter": {
   "hash": "ad8bebc098a042dc0df4e42fc2ecc8fff0bd7b8741641ce29007c29766dadbe0"
  },
  "kernelspec": {
   "display_name": "Python 3.9.1 64-bit ('base': conda)",
   "name": "python3"
  },
  "language_info": {
   "codemirror_mode": {
    "name": "ipython",
    "version": 3
   },
   "file_extension": ".py",
   "mimetype": "text/x-python",
   "name": "python",
   "nbconvert_exporter": "python",
   "pygments_lexer": "ipython3",
   "version": "3.9.1"
  },
  "orig_nbformat": 4
 },
 "nbformat": 4,
 "nbformat_minor": 2
}